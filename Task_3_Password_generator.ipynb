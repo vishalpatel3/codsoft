{
 "cells": [
  {
   "cell_type": "markdown",
   "id": "ec6cf618",
   "metadata": {},
   "source": [
    "# Password Generator"
   ]
  },
  {
   "cell_type": "code",
   "execution_count": 5,
   "id": "ef363f07",
   "metadata": {},
   "outputs": [],
   "source": [
    "from tkinter import * \n",
    "import random,string\n",
    "\n",
    "root=Tk()\n",
    "root.geometry('400x280')\n",
    "root.title(\"Password Generator\")\n",
    "\n",
    "title=StringVar()\n",
    "label=Label(root,textvariable=title).pack()\n",
    "title.set(\"The strength of password:\")\n",
    "\n",
    "def selection():\n",
    "    selection=choice.get()\n",
    "\n",
    "choice=IntVar()\n",
    "R1=Radiobutton(root,text=\"POOR\",variable=choice,value=1,command=selection).pack(anchor=CENTER)\n",
    "R2=Radiobutton(root,text=\"AVERAGE\",variable=choice,value=2,command=selection).pack(anchor=CENTER)\n",
    "R3=Radiobutton(root,text=\"ADVANCED\",variable=choice,value=3,command=selection).pack(anchor=CENTER)\n",
    "\n",
    "labelchoice=Label(root)\n",
    "labelchoice.pack()\n",
    "\n",
    "lenlabel=StringVar()\n",
    "lenlabel.set(\"password length\")\n",
    "lentitle=Label(root,textvariable=lenlabel).pack()\n",
    "\n",
    "val=IntVar()\n",
    "spinlength=Spinbox(root,from_=8,to_=24,textvariable=val,width=13).pack()\n",
    "\n",
    "def callback():\n",
    "    Isum.config(text=passgen())\n",
    "    \n",
    "passgenButton=Button(root,text=\"Generate password\",bd=5,height=2,command=callback,pady=3)\n",
    "passgenButton.pack()\n",
    "password=str(callback)\n",
    "\n",
    "Isum=Label(root,text=\"\")\n",
    "Isum.pack(side=BOTTOM)\n",
    "\n",
    "poor=string.ascii_uppercase+string.ascii_lowercase\n",
    "average=string.ascii_uppercase+string.ascii_lowercase+string.digits\n",
    "symbols=\"\"\"`~!@#$%^&*()_-+={}[]\\|:;\"'<>,.?/\"\"\"\n",
    "advance=poor+average+symbols\n",
    "\n",
    "def passgen():\n",
    "    if choice.get()==1:\n",
    "        return\"\".join(random.sample(poor,val.get()))\n",
    "    elif choice.get()==2:\n",
    "        return\"\".join(random.sample(average,val.get()))\n",
    "    elif choice.get()==3:\n",
    "        return\"\".join(random.sample(advance,val.get()))\n",
    "    \n",
    "root.mainloop()\n"
   ]
  }
 ],
 "metadata": {
  "kernelspec": {
   "display_name": "Python 3 (ipykernel)",
   "language": "python",
   "name": "python3"
  },
  "language_info": {
   "codemirror_mode": {
    "name": "ipython",
    "version": 3
   },
   "file_extension": ".py",
   "mimetype": "text/x-python",
   "name": "python",
   "nbconvert_exporter": "python",
   "pygments_lexer": "ipython3",
   "version": "3.9.12"
  }
 },
 "nbformat": 4,
 "nbformat_minor": 5
}
