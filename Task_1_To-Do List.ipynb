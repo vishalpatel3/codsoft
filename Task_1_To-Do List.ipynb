{
 "cells": [
  {
   "cell_type": "markdown",
   "id": "a5ec923e",
   "metadata": {},
   "source": [
    "# To-Do List"
   ]
  },
  {
   "cell_type": "code",
   "execution_count": 1,
   "id": "c3c31d32",
   "metadata": {},
   "outputs": [],
   "source": [
    "from tkinter import *\n",
    "from tkinter import messagebox\n",
    "\n",
    "def newTask():\n",
    "    task = my_entry.get()\n",
    "    if task !=\"\":\n",
    "        lb.insert(END,task)\n",
    "        my_entry.delete(0,\"end\")\n",
    "    else:\n",
    "        messagebox.showwarning(\"warning\",\"Please enter some task.\")\n",
    "        \n",
    "def deleteTask():\n",
    "    lb.delete(ANCHOR)\n",
    "\n",
    "root=Tk()\n",
    "root.title('To-Do List')\n",
    "root.resizable(0,0)\n",
    "root.geometry('500x450+500+200')\n",
    "root.config(bg='#223441')\n",
    "\n",
    "frame=Frame(root)\n",
    "frame.pack(pady=10)\n",
    "\n",
    "lb=Listbox(frame,width=25,height=8,font=('Times',18),bd=0,fg='#464646',highlightthickness=0,selectbackground='#a6a6a6',activestyle='none')\n",
    "lb.pack(side=LEFT,fill=BOTH)\n",
    "\n",
    "task_list=[ ]\n",
    "\n",
    "for item in task_list:\n",
    "    lb.insert(END,item)\n",
    "    \n",
    "sb=Scrollbar(frame)\n",
    "sb.pack(side=RIGHT, fill=BOTH)\n",
    "\n",
    "lb.config(yscrollcommand=sb.set)\n",
    "sb.config(command=lb.yview)\n",
    "\n",
    "my_entry=Entry(root,font=('times',24))\n",
    "\n",
    "my_entry.pack(pady=20)\n",
    "\n",
    "button_frame=Frame(root)\n",
    "button_frame.pack(pady=20)\n",
    "\n",
    "addTask_btn=Button(button_frame,text='Add Task',font=('times 14'),bg='#c5f776',padx=20,pady=10,command=newTask)\n",
    "addTask_btn.pack(fill=BOTH,expand=True,side=LEFT)\n",
    "\n",
    "delTask_btn=Button(button_frame,text='Delete Task',font=('times 14'),bg='#ff8b61',padx=20,pady=10,command=deleteTask)\n",
    "delTask_btn.pack(fill=BOTH,expand=True,side=LEFT)\n",
    "\n",
    "root.mainloop()"
   ]
  }
 ],
 "metadata": {
  "kernelspec": {
   "display_name": "Python 3 (ipykernel)",
   "language": "python",
   "name": "python3"
  },
  "language_info": {
   "codemirror_mode": {
    "name": "ipython",
    "version": 3
   },
   "file_extension": ".py",
   "mimetype": "text/x-python",
   "name": "python",
   "nbconvert_exporter": "python",
   "pygments_lexer": "ipython3",
   "version": "3.9.12"
  }
 },
 "nbformat": 4,
 "nbformat_minor": 5
}
